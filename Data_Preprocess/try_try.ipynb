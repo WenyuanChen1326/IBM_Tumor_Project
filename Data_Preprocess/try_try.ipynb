{
 "cells": [
  {
   "cell_type": "code",
   "execution_count": 5,
   "metadata": {},
   "outputs": [],
   "source": [
    "import numpy as np\n",
    "import pandas as pd\n",
    "from sklearn.model_selection import train_test_split\n",
    "import matplotlib.pyplot as plt\n",
    "from utils import *"
   ]
  },
  {
   "cell_type": "code",
   "execution_count": 2,
   "metadata": {},
   "outputs": [
    {
     "name": "stdout",
     "output_type": "stream",
     "text": [
      "raw_df shape: (152076, 6)\n",
      "(151134, 6)\n",
      "(151134, 3, 3, 3)\n",
      "(151134,)\n"
     ]
    }
   ],
   "source": [
    "path = '../all_patients_sample_size_100_for_both_pos_neg.csv'\n",
    "raw_df = pd.read_csv(path)\n",
    "print(f'raw_df shape: {raw_df.shape}')\n",
    "raw_df.groupby(['Patient ID', 'Study ID']).size()\n",
    "num_unique_patients = raw_df.groupby(['Patient ID']).size()\n",
    "assert num_unique_patients.shape[0] == 900-1\n",
    "num_unique_studies = raw_df.groupby(['Patient ID', 'Study ID']).size()\n",
    "assert num_unique_studies.shape[0] == 1014-1\n",
    "\n",
    "remove_all_0s = raw_df[~(raw_df['Block Size'] == '0')]\n",
    "print(remove_all_0s.shape)\n",
    "# Load the dataset\n",
    "df = remove_all_0s.reset_index(drop = True)\n",
    "\n",
    "# First split: Separate out the test set\n",
    "train_val_idx, test_idx = train_test_split(df.index, test_size=0.2, stratify=df['Positive Tumor'], random_state=42)\n",
    "# Second split: Split the remaining data into training and validation sets\n",
    "train_val_df = df.loc[train_val_idx]\n",
    "test_df = df.loc[test_idx]\n",
    "train_idx, valid_idx = train_test_split(train_val_idx, test_size=0.25, stratify=train_val_df['Positive Tumor'], random_state=42)\n",
    "train_df = df.loc[train_idx]\n",
    "val_df = df.loc[valid_idx]\n",
    "\n",
    "# Create a new column called 'Diagnosis' in the raw_df\n",
    "# tuples = list(zip(raw_df['Patient ID'], raw_df['Study ID']))\n",
    "# Now map these tuples to their corresponding diagnosis using the diagnosis_dict\n",
    "# raw_df['Diagnosis'] = pd.Series(tuples).map(diagnosis_dict)\n",
    "\n",
    "features = np.load(\"../ori_reso_all_dataset.npy\", allow_pickle=True)\n",
    "print(features.shape)\n",
    "labels =np.load(\"../ori_reso_all_labels.npy\", allow_pickle=True)\n",
    "print(labels.shape)"
   ]
  },
  {
   "cell_type": "code",
   "execution_count": 25,
   "metadata": {},
   "outputs": [],
   "source": [
    "train_labels = np.load(\"../train_labels.npy\", allow_pickle=True)"
   ]
  },
  {
   "cell_type": "code",
   "execution_count": 28,
   "metadata": {},
   "outputs": [
    {
     "data": {
      "text/plain": [
       "array([0, 1, 0, 1, 0, 1, 0, 0, 0, 0, 0, 0, 1, 0, 1, 1, 1, 0, 0, 0])"
      ]
     },
     "execution_count": 28,
     "metadata": {},
     "output_type": "execute_result"
    }
   ],
   "source": [
    "train_labels[:20]"
   ]
  },
  {
   "cell_type": "code",
   "execution_count": 29,
   "metadata": {},
   "outputs": [
    {
     "data": {
      "text/html": [
       "<div>\n",
       "<style scoped>\n",
       "    .dataframe tbody tr th:only-of-type {\n",
       "        vertical-align: middle;\n",
       "    }\n",
       "\n",
       "    .dataframe tbody tr th {\n",
       "        vertical-align: top;\n",
       "    }\n",
       "\n",
       "    .dataframe thead th {\n",
       "        text-align: right;\n",
       "    }\n",
       "</style>\n",
       "<table border=\"1\" class=\"dataframe\">\n",
       "  <thead>\n",
       "    <tr style=\"text-align: right;\">\n",
       "      <th></th>\n",
       "      <th>Patient ID</th>\n",
       "      <th>Study ID</th>\n",
       "      <th>Tumor idx</th>\n",
       "      <th>Coordinate</th>\n",
       "      <th>Block Size</th>\n",
       "      <th>Positive Tumor</th>\n",
       "    </tr>\n",
       "  </thead>\n",
       "  <tbody>\n",
       "    <tr>\n",
       "      <th>87934</th>\n",
       "      <td>PETCT_9a418f3b3a</td>\n",
       "      <td>05-11-2003-NA-PET-CT Ganzkoerper  primaer mit ...</td>\n",
       "      <td>52</td>\n",
       "      <td>(157,201,217)</td>\n",
       "      <td>(3,3,3)</td>\n",
       "      <td>0</td>\n",
       "    </tr>\n",
       "    <tr>\n",
       "      <th>60035</th>\n",
       "      <td>PETCT_6543c58e13</td>\n",
       "      <td>02-25-2001-NA-PET-CT Ganzkoerper  primaer mit ...</td>\n",
       "      <td>37</td>\n",
       "      <td>(221,195,212)</td>\n",
       "      <td>(3,3,3)</td>\n",
       "      <td>2</td>\n",
       "    </tr>\n",
       "    <tr>\n",
       "      <th>31671</th>\n",
       "      <td>PETCT_390129c0d2</td>\n",
       "      <td>04-27-2007-NA-PET-CT Ganzkoerper  primaer mit ...</td>\n",
       "      <td>76</td>\n",
       "      <td>(224,185,320)</td>\n",
       "      <td>(3,3,3)</td>\n",
       "      <td>0</td>\n",
       "    </tr>\n",
       "    <tr>\n",
       "      <th>12465</th>\n",
       "      <td>PETCT_17d334cb6c</td>\n",
       "      <td>08-28-2000-NA-Unspecified CT ABDOMEN-62383</td>\n",
       "      <td>86</td>\n",
       "      <td>(153,191,206)</td>\n",
       "      <td>(3,3,3)</td>\n",
       "      <td>2</td>\n",
       "    </tr>\n",
       "    <tr>\n",
       "      <th>130775</th>\n",
       "      <td>PETCT_dc15c1d9bb</td>\n",
       "      <td>06-03-2005-NA-PET-CT Ganzkoerper  primaer mit ...</td>\n",
       "      <td>73</td>\n",
       "      <td>(209,256,272)</td>\n",
       "      <td>(3,3,3)</td>\n",
       "      <td>0</td>\n",
       "    </tr>\n",
       "    <tr>\n",
       "      <th>18304</th>\n",
       "      <td>PETCT_21853fc15b</td>\n",
       "      <td>10-12-2002-NA-PET-CT Ganzkoerper  primaer mit ...</td>\n",
       "      <td>63</td>\n",
       "      <td>(165,167,219)</td>\n",
       "      <td>(3,3,3)</td>\n",
       "      <td>2</td>\n",
       "    </tr>\n",
       "    <tr>\n",
       "      <th>113785</th>\n",
       "      <td>PETCT_c2a51a65c6</td>\n",
       "      <td>09-15-2002-NA-PET-CT Ganzkoerper  primaer mit ...</td>\n",
       "      <td>68</td>\n",
       "      <td>(196,228,199)</td>\n",
       "      <td>(3,3,3)</td>\n",
       "      <td>0</td>\n",
       "    </tr>\n",
       "    <tr>\n",
       "      <th>100733</th>\n",
       "      <td>PETCT_ae8c77a995</td>\n",
       "      <td>05-18-2007-NA-PET-CT Ganzkoerper nativ-79472</td>\n",
       "      <td>33</td>\n",
       "      <td>(196,188,179)</td>\n",
       "      <td>(3,3,3)</td>\n",
       "      <td>0</td>\n",
       "    </tr>\n",
       "    <tr>\n",
       "      <th>9163</th>\n",
       "      <td>PETCT_13b40a817b</td>\n",
       "      <td>02-18-2001-NA-PET-CT Ganzkoerper  primaer mit ...</td>\n",
       "      <td>33</td>\n",
       "      <td>(194,216,187)</td>\n",
       "      <td>(3,3,3)</td>\n",
       "      <td>0</td>\n",
       "    </tr>\n",
       "    <tr>\n",
       "      <th>151008</th>\n",
       "      <td>PETCT_ff1451316e</td>\n",
       "      <td>03-31-2003-NA-PET-CT Ganzkoerper  primaer mit ...</td>\n",
       "      <td>74</td>\n",
       "      <td>(247,160,173)</td>\n",
       "      <td>(3,3,3)</td>\n",
       "      <td>0</td>\n",
       "    </tr>\n",
       "    <tr>\n",
       "      <th>100042</th>\n",
       "      <td>PETCT_ae4dcc5dd3</td>\n",
       "      <td>10-08-2004-NA-PET-CT Teilkoerper  primaer mit ...</td>\n",
       "      <td>42</td>\n",
       "      <td>(209,200,212)</td>\n",
       "      <td>(3,3,3)</td>\n",
       "      <td>0</td>\n",
       "    </tr>\n",
       "    <tr>\n",
       "      <th>137270</th>\n",
       "      <td>PETCT_e69152b6b4</td>\n",
       "      <td>01-26-2004-NA-PET-CT Ganzkoerper  primaer mit ...</td>\n",
       "      <td>91</td>\n",
       "      <td>(178,202,110)</td>\n",
       "      <td>(3,3,3)</td>\n",
       "      <td>0</td>\n",
       "    </tr>\n",
       "    <tr>\n",
       "      <th>16411</th>\n",
       "      <td>PETCT_1f65acff65</td>\n",
       "      <td>05-06-2007-NA-PET-CT Ganzkoerper nativ u. mit ...</td>\n",
       "      <td>13</td>\n",
       "      <td>(205,191,236)</td>\n",
       "      <td>(3,3,3)</td>\n",
       "      <td>2</td>\n",
       "    </tr>\n",
       "    <tr>\n",
       "      <th>101897</th>\n",
       "      <td>PETCT_af547fa618</td>\n",
       "      <td>03-11-2006-NA-PET-CT Ganzkoerper  primaer mit ...</td>\n",
       "      <td>97</td>\n",
       "      <td>(180,206,273)</td>\n",
       "      <td>(3,3,3)</td>\n",
       "      <td>0</td>\n",
       "    </tr>\n",
       "    <tr>\n",
       "      <th>98465</th>\n",
       "      <td>PETCT_ab953a5230</td>\n",
       "      <td>11-03-2003-NA-PET-CT Ganzkoerper  primaer mit ...</td>\n",
       "      <td>74</td>\n",
       "      <td>(191,181,548)</td>\n",
       "      <td>(3,3,3)</td>\n",
       "      <td>2</td>\n",
       "    </tr>\n",
       "    <tr>\n",
       "      <th>108963</th>\n",
       "      <td>PETCT_bacc741e2c</td>\n",
       "      <td>01-28-2002-NA-PET-CT Ganzkoerper  primaer mit ...</td>\n",
       "      <td>46</td>\n",
       "      <td>(183,161,211)</td>\n",
       "      <td>(3,3,3)</td>\n",
       "      <td>2</td>\n",
       "    </tr>\n",
       "    <tr>\n",
       "      <th>138694</th>\n",
       "      <td>PETCT_e9e1a391b5</td>\n",
       "      <td>10-11-2001-NA-PET-CT Ganzkoerper  primaer mit ...</td>\n",
       "      <td>15</td>\n",
       "      <td>(179,165,179)</td>\n",
       "      <td>(3,3,3)</td>\n",
       "      <td>2</td>\n",
       "    </tr>\n",
       "    <tr>\n",
       "      <th>7980</th>\n",
       "      <td>PETCT_119165872d</td>\n",
       "      <td>02-12-2005-NA-PET-CT Ganzkoerper  primaer mit ...</td>\n",
       "      <td>50</td>\n",
       "      <td>(140,236,155)</td>\n",
       "      <td>(3,3,3)</td>\n",
       "      <td>0</td>\n",
       "    </tr>\n",
       "    <tr>\n",
       "      <th>34514</th>\n",
       "      <td>PETCT_3d6f425a76</td>\n",
       "      <td>07-22-2002-NA-PET-CT Ganzkoerper  primaer mit ...</td>\n",
       "      <td>86</td>\n",
       "      <td>(198,152,219)</td>\n",
       "      <td>(3,3,3)</td>\n",
       "      <td>0</td>\n",
       "    </tr>\n",
       "    <tr>\n",
       "      <th>81768</th>\n",
       "      <td>PETCT_8fea5f0537</td>\n",
       "      <td>09-26-2005-NA-PET-CT Teilkoerper  primaer mit ...</td>\n",
       "      <td>70</td>\n",
       "      <td>(149,190,139)</td>\n",
       "      <td>(3,3,3)</td>\n",
       "      <td>0</td>\n",
       "    </tr>\n",
       "  </tbody>\n",
       "</table>\n",
       "</div>"
      ],
      "text/plain": [
       "              Patient ID                                           Study ID  \\\n",
       "87934   PETCT_9a418f3b3a  05-11-2003-NA-PET-CT Ganzkoerper  primaer mit ...   \n",
       "60035   PETCT_6543c58e13  02-25-2001-NA-PET-CT Ganzkoerper  primaer mit ...   \n",
       "31671   PETCT_390129c0d2  04-27-2007-NA-PET-CT Ganzkoerper  primaer mit ...   \n",
       "12465   PETCT_17d334cb6c         08-28-2000-NA-Unspecified CT ABDOMEN-62383   \n",
       "130775  PETCT_dc15c1d9bb  06-03-2005-NA-PET-CT Ganzkoerper  primaer mit ...   \n",
       "18304   PETCT_21853fc15b  10-12-2002-NA-PET-CT Ganzkoerper  primaer mit ...   \n",
       "113785  PETCT_c2a51a65c6  09-15-2002-NA-PET-CT Ganzkoerper  primaer mit ...   \n",
       "100733  PETCT_ae8c77a995       05-18-2007-NA-PET-CT Ganzkoerper nativ-79472   \n",
       "9163    PETCT_13b40a817b  02-18-2001-NA-PET-CT Ganzkoerper  primaer mit ...   \n",
       "151008  PETCT_ff1451316e  03-31-2003-NA-PET-CT Ganzkoerper  primaer mit ...   \n",
       "100042  PETCT_ae4dcc5dd3  10-08-2004-NA-PET-CT Teilkoerper  primaer mit ...   \n",
       "137270  PETCT_e69152b6b4  01-26-2004-NA-PET-CT Ganzkoerper  primaer mit ...   \n",
       "16411   PETCT_1f65acff65  05-06-2007-NA-PET-CT Ganzkoerper nativ u. mit ...   \n",
       "101897  PETCT_af547fa618  03-11-2006-NA-PET-CT Ganzkoerper  primaer mit ...   \n",
       "98465   PETCT_ab953a5230  11-03-2003-NA-PET-CT Ganzkoerper  primaer mit ...   \n",
       "108963  PETCT_bacc741e2c  01-28-2002-NA-PET-CT Ganzkoerper  primaer mit ...   \n",
       "138694  PETCT_e9e1a391b5  10-11-2001-NA-PET-CT Ganzkoerper  primaer mit ...   \n",
       "7980    PETCT_119165872d  02-12-2005-NA-PET-CT Ganzkoerper  primaer mit ...   \n",
       "34514   PETCT_3d6f425a76  07-22-2002-NA-PET-CT Ganzkoerper  primaer mit ...   \n",
       "81768   PETCT_8fea5f0537  09-26-2005-NA-PET-CT Teilkoerper  primaer mit ...   \n",
       "\n",
       "        Tumor idx     Coordinate Block Size  Positive Tumor  \n",
       "87934          52  (157,201,217)    (3,3,3)               0  \n",
       "60035          37  (221,195,212)    (3,3,3)               2  \n",
       "31671          76  (224,185,320)    (3,3,3)               0  \n",
       "12465          86  (153,191,206)    (3,3,3)               2  \n",
       "130775         73  (209,256,272)    (3,3,3)               0  \n",
       "18304          63  (165,167,219)    (3,3,3)               2  \n",
       "113785         68  (196,228,199)    (3,3,3)               0  \n",
       "100733         33  (196,188,179)    (3,3,3)               0  \n",
       "9163           33  (194,216,187)    (3,3,3)               0  \n",
       "151008         74  (247,160,173)    (3,3,3)               0  \n",
       "100042         42  (209,200,212)    (3,3,3)               0  \n",
       "137270         91  (178,202,110)    (3,3,3)               0  \n",
       "16411          13  (205,191,236)    (3,3,3)               2  \n",
       "101897         97  (180,206,273)    (3,3,3)               0  \n",
       "98465          74  (191,181,548)    (3,3,3)               2  \n",
       "108963         46  (183,161,211)    (3,3,3)               2  \n",
       "138694         15  (179,165,179)    (3,3,3)               2  \n",
       "7980           50  (140,236,155)    (3,3,3)               0  \n",
       "34514          86  (198,152,219)    (3,3,3)               0  \n",
       "81768          70  (149,190,139)    (3,3,3)               0  "
      ]
     },
     "execution_count": 29,
     "metadata": {},
     "output_type": "execute_result"
    }
   ],
   "source": [
    "train_df.head(20)"
   ]
  },
  {
   "cell_type": "code",
   "execution_count": 23,
   "metadata": {},
   "outputs": [
    {
     "data": {
      "text/plain": [
       "1"
      ]
     },
     "execution_count": 23,
     "metadata": {},
     "output_type": "execute_result"
    }
   ],
   "source": [
    "labels[10469]"
   ]
  },
  {
   "cell_type": "code",
   "execution_count": 22,
   "metadata": {},
   "outputs": [
    {
     "data": {
      "text/plain": [
       "(3, 3, 3)"
      ]
     },
     "execution_count": 22,
     "metadata": {},
     "output_type": "execute_result"
    }
   ],
   "source": [
    "features[10469].shape"
   ]
  },
  {
   "cell_type": "code",
   "execution_count": 6,
   "metadata": {},
   "outputs": [
    {
     "data": {
      "image/png": "[encoded data removed]",
      "text/plain": [
       "<Figure size 1500x500 with 3 Axes>"
      ]
     },
     "metadata": {},
     "output_type": "display_data"
    }
   ],
   "source": [
    "block = scale_up_block(features[10469]).astype(np.float32)\n",
    "mip_x = np.max(block, axis=0) # X-axis projection\n",
    "mip_y = np.max(block, axis=1) # Y-axis projection\n",
    "mip_z = np.max(block, axis=2) # Z-axis projection\n",
    "\n",
    "\n",
    "# Visualize the MIPs\n",
    "fig, axs = plt.subplots(1, 3, figsize=(15, 5))\n",
    "\n",
    "axs[0].imshow(mip_x, cmap='gray')\n",
    "axs[0].set_title('MIP - X axis (axial)')\n",
    "axs[0].axis('off')\n",
    "\n",
    "axs[1].imshow(mip_y, cmap='gray')\n",
    "axs[1].set_title('MIP - Y axis (coronal)')\n",
    "axs[1].axis('off')\n",
    "\n",
    "axs[2].imshow(mip_z, cmap='gray')\n",
    "axs[2].set_title('MIP - Z axis (sagittal)')\n",
    "axs[2].axis('off')\n",
    "plt.show()"
   ]
  },
  {
   "cell_type": "code",
   "execution_count": 1,
   "metadata": {},
   "outputs": [
    {
     "data": {
      "text/plain": [
       "[1, 2]"
      ]
     },
     "execution_count": 1,
     "metadata": {},
     "output_type": "execute_result"
    }
   ],
   "source": [
    "[1] + [2]"
   ]
  },
  {
   "cell_type": "code",
   "execution_count": null,
   "metadata": {},
   "outputs": [],
   "source": []
  }
 ],
 "metadata": {
  "kernelspec": {
   "display_name": "IBM_project",
   "language": "python",
   "name": "python3"
  },
  "language_info": {
   "codemirror_mode": {
    "name": "ipython",
    "version": 3
   },
   "file_extension": ".py",
   "mimetype": "text/x-python",
   "name": "python",
   "nbconvert_exporter": "python",
   "pygments_lexer": "ipython3",
   "version": "3.12.1"
  }
 },
 "nbformat": 4,
 "nbformat_minor": 2
}
