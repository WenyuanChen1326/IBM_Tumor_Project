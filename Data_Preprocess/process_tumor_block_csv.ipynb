{
 "cells": [
  {
   "cell_type": "code",
   "execution_count": 1,
   "metadata": {},
   "outputs": [],
   "source": [
    "import pandas as pd\n",
    "import numpy as np\n",
    "import matplotlib.pyplot as plt\n",
    "import warnings\n",
    "import seaborn as sns\n",
    "from utils import *\n",
    "# Ignore all warnings\n",
    "warnings.filterwarnings(\"ignore\")\n",
    "from mayavi import mlab\n",
    "\n"
   ]
  },
  {
   "cell_type": "markdown",
   "metadata": {},
   "source": [
    "<h2> Process the Metadata"
   ]
  },
  {
   "cell_type": "code",
   "execution_count": 2,
   "metadata": {},
   "outputs": [],
   "source": [
    "path = '/Users/wenyuanchen/Desktop/IBM/IBM_Tumor_Project/Data/autoPETmeta.csv'\n",
    "raw_meta_df = pd.read_csv(path)\n",
    "raw_meta_df.fillna('unknown', inplace=True)\n",
    "raw_meta_df[['patient_id','study_id']] = raw_meta_df['study_location'].str.rsplit('/', n=2, expand=True)[[0,1]]\n",
    "raw_meta_df['patient_id'] = raw_meta_df['patient_id'].str.split('/').str[-1]\n",
    "\n",
    "def get_diagnosis(raw_meta_df = raw_meta_df):\n",
    "    raw_df = raw_meta_df.copy()\n",
    "    diagnosis_dict = {(row['patient_id'], row['study_id']): row['diagnosis'] for index, row in raw_df.iterrows()}\n",
    "    return diagnosis_dict\n",
    "\n",
    "def read_diagnosis_sample_patient_id(raw_meta_df = raw_meta_df,diagnosis = \"NEGATIVE\"):\n",
    "    raw_df = raw_meta_df.copy()\n",
    "\n",
    "    diagnosis_id_lst = raw_df[raw_df['diagnosis'] == diagnosis]['patient_id']\n",
    "    diagnosis_study_lst = raw_df[raw_df['diagnosis'] == diagnosis]['study_id']\n",
    "    return diagnosis_id_lst, diagnosis_study_lst\n"
   ]
  },
  {
   "cell_type": "code",
   "execution_count": 3,
   "metadata": {},
   "outputs": [
    {
     "name": "stdout",
     "output_type": "stream",
     "text": [
      "There are 81 patients with more than 1 study.\n"
     ]
    }
   ],
   "source": [
    "patient_study_counts = raw_meta_df.groupby('patient_id')['study_id'].nunique()\n",
    "patients_with_multiple_studies = patient_study_counts[patient_study_counts > 1]\n",
    "\n",
    "# The length of this filtered series gives us the number of Patient IDs with more than 1 unique Study ID\n",
    "number_of_patients_more_than_1_study = len(patients_with_multiple_studies)\n",
    "number_of_patients_more_than_1_study\n",
    "print(f'There are {number_of_patients_more_than_1_study} patients with more than 1 study.')"
   ]
  },
  {
   "cell_type": "code",
   "execution_count": 4,
   "metadata": {},
   "outputs": [
    {
     "name": "stdout",
     "output_type": "stream",
     "text": [
      "Number of patients that have more than 1 diagnosis: 30\n"
     ]
    }
   ],
   "source": [
    "# Find patients with negative diagnosis\n",
    "negative_patients = set(raw_meta_df[raw_meta_df['diagnosis'] == 'NEGATIVE']['patient_id'])\n",
    "\n",
    "# Find patients with positive diagnosis\n",
    "positive_patients = set(raw_meta_df[raw_meta_df['diagnosis'] != 'NEGATIVE']['patient_id'])\n",
    "\n",
    "# Find patients that are in both negative diagnosis and other positive diagnosis\n",
    "cross_diagnosis_patients = negative_patients.intersection(positive_patients)\n",
    "\n",
    "cross_diagnosis_patients\n",
    "print(f\"Number of patients that have more than 1 diagnosis: {len(cross_diagnosis_patients)}\")"
   ]
  },
  {
   "cell_type": "code",
   "execution_count": 5,
   "metadata": {},
   "outputs": [],
   "source": [
    "diagnosis_dict = get_diagnosis(raw_meta_df = raw_meta_df)"
   ]
  },
  {
   "cell_type": "code",
   "execution_count": 6,
   "metadata": {},
   "outputs": [],
   "source": [
    "negative_id_lst, negative_study_lst = read_diagnosis_sample_patient_id()"
   ]
  },
  {
   "cell_type": "code",
   "execution_count": 18,
   "metadata": {},
   "outputs": [
    {
     "name": "stdout",
     "output_type": "stream",
     "text": [
      "Corrected CSV file has been saved to: ../corrected_all_patients_tumor_pos_neg_block.csv\n"
     ]
    }
   ],
   "source": [
    "# only need to run for once.\n",
    "# import csv\n",
    "# input_file_path =  '../all_patients_tumor_pos_neg_block.csv'\n",
    "# output_file_path = '../corrected_all_patients_tumor_pos_neg_block.csv'\n",
    "\n",
    "\n",
    "# with open(input_file_path, 'r') as infile, open(output_file_path, 'w', newline='') as outfile:\n",
    "#     reader = csv.reader(infile)\n",
    "#     writer = csv.writer(outfile)\n",
    "\n",
    "#     # Write the header without modification\n",
    "#     writer.writerow(next(reader))\n",
    "\n",
    "#     # Iterate over each row in the original CSV\n",
    "#     for row in reader:\n",
    "#         # Skip rows that do not have the expected number of elements\n",
    "#         # Assuming the full row should have more than 6 elements due to 'Coordinate' and 'Block Size'\n",
    "#         if len(row) <= 6:\n",
    "#             continue  # Skip this row\n",
    "\n",
    "#         # Assuming the 'Coordinate' starts at index 3 and 'Block Size' immediately follows\n",
    "#         # and checking if row has enough elements to avoid IndexError\n",
    "#         if len(row) >= 9:  # Ensure there are enough elements for 'Coordinate' and 'Block Size'\n",
    "#             coordinate = ','.join(row[3:6])  # Merge the coordinate parts\n",
    "#             block_size = ','.join(row[6:9])  # Merge the block size parts\n",
    "#             # Reconstruct the row with merged 'Coordinate' and 'Block Size'\n",
    "#             corrected_row = row[:3] + [coordinate, block_size] + row[9:]\n",
    "#         else:\n",
    "#             # If the row does not have enough elements after the 'Tumor idx', skip it\n",
    "#             continue\n",
    "\n",
    "#         # Write the corrected row to the new file\n",
    "#         writer.writerow(corrected_row)\n",
    "\n",
    "# print(f\"Corrected CSV file has been saved to: {output_file_path}\")\n",
    "\n"
   ]
  },
  {
   "cell_type": "code",
   "execution_count": 7,
   "metadata": {},
   "outputs": [
    {
     "name": "stdout",
     "output_type": "stream",
     "text": [
      "raw_df shape: (2029089, 6)\n"
     ]
    }
   ],
   "source": [
    "path = '../corrected_all_patients_tumor_pos_neg_block.csv'\n",
    "# path = '../all_patients_results.csv'\n",
    "raw_df = pd.read_csv(path)\n",
    "print(f'raw_df shape: {raw_df.shape}')\n",
    "raw_df.groupby(['Patient ID', 'Study ID']).size()\n",
    "num_unique_patients = raw_df.groupby(['Patient ID']).size()\n",
    "assert num_unique_patients.shape[0] == 900\n",
    "\n",
    "num_unique_studies = raw_df.groupby(['Patient ID', 'Study ID']).size()\n",
    "assert num_unique_studies.shape[0] == 1014\n",
    "\n",
    "# Create a new column called 'Diagnosis' in the raw_df\n",
    "tuples = list(zip(raw_df['Patient ID'], raw_df['Study ID']))\n",
    "# Now map these tuples to their corresponding diagnosis using the diagnosis_dict\n",
    "raw_df['Diagnosis'] = pd.Series(tuples).map(diagnosis_dict)\n"
   ]
  },
  {
   "cell_type": "code",
   "execution_count": 8,
   "metadata": {},
   "outputs": [
    {
     "data": {
      "text/html": [
       "<div>\n",
       "<style scoped>\n",
       "    .dataframe tbody tr th:only-of-type {\n",
       "        vertical-align: middle;\n",
       "    }\n",
       "\n",
       "    .dataframe tbody tr th {\n",
       "        vertical-align: top;\n",
       "    }\n",
       "\n",
       "    .dataframe thead th {\n",
       "        text-align: right;\n",
       "    }\n",
       "</style>\n",
       "<table border=\"1\" class=\"dataframe\">\n",
       "  <thead>\n",
       "    <tr style=\"text-align: right;\">\n",
       "      <th></th>\n",
       "      <th>Patient ID</th>\n",
       "      <th>Study ID</th>\n",
       "      <th>Tumor idx</th>\n",
       "      <th>Coordinate</th>\n",
       "      <th>Block Size</th>\n",
       "      <th>Positive Tumor</th>\n",
       "      <th>Diagnosis</th>\n",
       "    </tr>\n",
       "  </thead>\n",
       "  <tbody>\n",
       "    <tr>\n",
       "      <th>0</th>\n",
       "      <td>PETCT_0011f3deaf</td>\n",
       "      <td>03-23-2003-NA-PET-CT Ganzkoerper  primaer mit ...</td>\n",
       "      <td>0</td>\n",
       "      <td>150,205,150</td>\n",
       "      <td>3,3,3</td>\n",
       "      <td>0</td>\n",
       "      <td>MELANOMA</td>\n",
       "    </tr>\n",
       "    <tr>\n",
       "      <th>1</th>\n",
       "      <td>PETCT_0011f3deaf</td>\n",
       "      <td>03-23-2003-NA-PET-CT Ganzkoerper  primaer mit ...</td>\n",
       "      <td>1</td>\n",
       "      <td>157,196,13</td>\n",
       "      <td>3,3,3</td>\n",
       "      <td>0</td>\n",
       "      <td>MELANOMA</td>\n",
       "    </tr>\n",
       "    <tr>\n",
       "      <th>2</th>\n",
       "      <td>PETCT_0011f3deaf</td>\n",
       "      <td>03-23-2003-NA-PET-CT Ganzkoerper  primaer mit ...</td>\n",
       "      <td>2</td>\n",
       "      <td>189,197,309</td>\n",
       "      <td>3,3,3</td>\n",
       "      <td>0</td>\n",
       "      <td>MELANOMA</td>\n",
       "    </tr>\n",
       "    <tr>\n",
       "      <th>3</th>\n",
       "      <td>PETCT_0011f3deaf</td>\n",
       "      <td>03-23-2003-NA-PET-CT Ganzkoerper  primaer mit ...</td>\n",
       "      <td>3</td>\n",
       "      <td>160,224,5</td>\n",
       "      <td>3,3,3</td>\n",
       "      <td>0</td>\n",
       "      <td>MELANOMA</td>\n",
       "    </tr>\n",
       "    <tr>\n",
       "      <th>4</th>\n",
       "      <td>PETCT_0011f3deaf</td>\n",
       "      <td>03-23-2003-NA-PET-CT Ganzkoerper  primaer mit ...</td>\n",
       "      <td>4</td>\n",
       "      <td>212,200,195</td>\n",
       "      <td>3,3,3</td>\n",
       "      <td>0</td>\n",
       "      <td>MELANOMA</td>\n",
       "    </tr>\n",
       "    <tr>\n",
       "      <th>...</th>\n",
       "      <td>...</td>\n",
       "      <td>...</td>\n",
       "      <td>...</td>\n",
       "      <td>...</td>\n",
       "      <td>...</td>\n",
       "      <td>...</td>\n",
       "      <td>...</td>\n",
       "    </tr>\n",
       "    <tr>\n",
       "      <th>2029084</th>\n",
       "      <td>PETCT_ff39795341</td>\n",
       "      <td>09-22-2005-NA-PET-CT Ganzkoerper  primaer mit ...</td>\n",
       "      <td>3133</td>\n",
       "      <td>192,164,49</td>\n",
       "      <td>3,3,3</td>\n",
       "      <td>0</td>\n",
       "      <td>NEGATIVE</td>\n",
       "    </tr>\n",
       "    <tr>\n",
       "      <th>2029085</th>\n",
       "      <td>PETCT_ff39795341</td>\n",
       "      <td>09-22-2005-NA-PET-CT Ganzkoerper  primaer mit ...</td>\n",
       "      <td>3134</td>\n",
       "      <td>231,183,364</td>\n",
       "      <td>3,3,3</td>\n",
       "      <td>0</td>\n",
       "      <td>NEGATIVE</td>\n",
       "    </tr>\n",
       "    <tr>\n",
       "      <th>2029086</th>\n",
       "      <td>PETCT_ff39795341</td>\n",
       "      <td>09-22-2005-NA-PET-CT Ganzkoerper  primaer mit ...</td>\n",
       "      <td>3135</td>\n",
       "      <td>132,219,359</td>\n",
       "      <td>3,3,3</td>\n",
       "      <td>0</td>\n",
       "      <td>NEGATIVE</td>\n",
       "    </tr>\n",
       "    <tr>\n",
       "      <th>2029087</th>\n",
       "      <td>PETCT_ff39795341</td>\n",
       "      <td>09-22-2005-NA-PET-CT Ganzkoerper  primaer mit ...</td>\n",
       "      <td>3136</td>\n",
       "      <td>191,196,62</td>\n",
       "      <td>3,3,3</td>\n",
       "      <td>0</td>\n",
       "      <td>NEGATIVE</td>\n",
       "    </tr>\n",
       "    <tr>\n",
       "      <th>2029088</th>\n",
       "      <td>PETCT_ff39795341</td>\n",
       "      <td>09-22-2005-NA-PET-CT Ganzkoerper  primaer mit ...</td>\n",
       "      <td>3137</td>\n",
       "      <td>257,148,303</td>\n",
       "      <td>3,3,3</td>\n",
       "      <td>0</td>\n",
       "      <td>NEGATIVE</td>\n",
       "    </tr>\n",
       "  </tbody>\n",
       "</table>\n",
       "<p>2029089 rows × 7 columns</p>\n",
       "</div>"
      ],
      "text/plain": [
       "               Patient ID                                           Study ID  \\\n",
       "0        PETCT_0011f3deaf  03-23-2003-NA-PET-CT Ganzkoerper  primaer mit ...   \n",
       "1        PETCT_0011f3deaf  03-23-2003-NA-PET-CT Ganzkoerper  primaer mit ...   \n",
       "2        PETCT_0011f3deaf  03-23-2003-NA-PET-CT Ganzkoerper  primaer mit ...   \n",
       "3        PETCT_0011f3deaf  03-23-2003-NA-PET-CT Ganzkoerper  primaer mit ...   \n",
       "4        PETCT_0011f3deaf  03-23-2003-NA-PET-CT Ganzkoerper  primaer mit ...   \n",
       "...                   ...                                                ...   \n",
       "2029084  PETCT_ff39795341  09-22-2005-NA-PET-CT Ganzkoerper  primaer mit ...   \n",
       "2029085  PETCT_ff39795341  09-22-2005-NA-PET-CT Ganzkoerper  primaer mit ...   \n",
       "2029086  PETCT_ff39795341  09-22-2005-NA-PET-CT Ganzkoerper  primaer mit ...   \n",
       "2029087  PETCT_ff39795341  09-22-2005-NA-PET-CT Ganzkoerper  primaer mit ...   \n",
       "2029088  PETCT_ff39795341  09-22-2005-NA-PET-CT Ganzkoerper  primaer mit ...   \n",
       "\n",
       "         Tumor idx   Coordinate Block Size  Positive Tumor Diagnosis  \n",
       "0                0  150,205,150      3,3,3               0  MELANOMA  \n",
       "1                1   157,196,13      3,3,3               0  MELANOMA  \n",
       "2                2  189,197,309      3,3,3               0  MELANOMA  \n",
       "3                3    160,224,5      3,3,3               0  MELANOMA  \n",
       "4                4  212,200,195      3,3,3               0  MELANOMA  \n",
       "...            ...          ...        ...             ...       ...  \n",
       "2029084       3133   192,164,49      3,3,3               0  NEGATIVE  \n",
       "2029085       3134  231,183,364      3,3,3               0  NEGATIVE  \n",
       "2029086       3135  132,219,359      3,3,3               0  NEGATIVE  \n",
       "2029087       3136   191,196,62      3,3,3               0  NEGATIVE  \n",
       "2029088       3137  257,148,303      3,3,3               0  NEGATIVE  \n",
       "\n",
       "[2029089 rows x 7 columns]"
      ]
     },
     "execution_count": 8,
     "metadata": {},
     "output_type": "execute_result"
    }
   ],
   "source": [
    "raw_df"
   ]
  },
  {
   "cell_type": "code",
   "execution_count": 11,
   "metadata": {},
   "outputs": [
    {
     "data": {
      "text/plain": [
       "Positive Tumor\n",
       "0    2028474\n",
       "1        615\n",
       "Name: count, dtype: int64"
      ]
     },
     "execution_count": 11,
     "metadata": {},
     "output_type": "execute_result"
    }
   ],
   "source": [
    "raw_df['Positive Tumor'].value_counts()"
   ]
  },
  {
   "cell_type": "code",
   "execution_count": 10,
   "metadata": {},
   "outputs": [
    {
     "data": {
      "text/plain": [
       "Patient ID\n",
       "PETCT_1285b86bea    125\n",
       "PETCT_ea051a3e6c     45\n",
       "PETCT_8a52353a72     41\n",
       "PETCT_e69152b6b4     39\n",
       "PETCT_4b688f46b0     38\n",
       "                   ... \n",
       "PETCT_73597f33fe      1\n",
       "PETCT_89065bc4ab      1\n",
       "PETCT_82137245b0      1\n",
       "PETCT_02ba7e20f5      1\n",
       "PETCT_cdd237e9b3      1\n",
       "Name: count, Length: 72, dtype: int64"
      ]
     },
     "execution_count": 10,
     "metadata": {},
     "output_type": "execute_result"
    }
   ],
   "source": [
    "positive_block_df = raw_df[raw_df['Positive Tumor'] == 1]\n",
    "positive_block_df['Patient ID'].value_counts()"
   ]
  },
  {
   "cell_type": "code",
   "execution_count": 14,
   "metadata": {},
   "outputs": [
    {
     "data": {
      "text/plain": [
       "Diagnosis\n",
       "NEGATIVE       1066927\n",
       "MELANOMA        412924\n",
       "LUNG_CANCER     290363\n",
       "LYMPHOMA        258260\n",
       "Name: count, dtype: int64"
      ]
     },
     "execution_count": 14,
     "metadata": {},
     "output_type": "execute_result"
    }
   ],
   "source": [
    "negative_block_df = raw_df[raw_df['Positive Tumor'] == 0]\n",
    "negative_block_df['Diagnosis'].value_counts()"
   ]
  },
  {
   "cell_type": "code",
   "execution_count": 32,
   "metadata": {},
   "outputs": [
    {
     "data": {
      "text/plain": [
       "Patient ID\n",
       "PETCT_1285b86bea    125\n",
       "PETCT_ea051a3e6c     45\n",
       "PETCT_8a52353a72     41\n",
       "PETCT_e69152b6b4     39\n",
       "PETCT_4b688f46b0     38\n",
       "                   ... \n",
       "PETCT_73597f33fe      1\n",
       "PETCT_89065bc4ab      1\n",
       "PETCT_82137245b0      1\n",
       "PETCT_02ba7e20f5      1\n",
       "PETCT_cdd237e9b3      1\n",
       "Name: count, Length: 72, dtype: int64"
      ]
     },
     "execution_count": 32,
     "metadata": {},
     "output_type": "execute_result"
    }
   ],
   "source": [
    "positive_block_df['Patient ID'].value_counts()"
   ]
  },
  {
   "cell_type": "code",
   "execution_count": 16,
   "metadata": {},
   "outputs": [
    {
     "name": "stderr",
     "output_type": "stream",
     "text": [
      "Current object is not active, please select an active object.\n"
     ]
    }
   ],
   "source": [
    "import os\n",
    "import pandas as pd\n",
    "import ast\n",
    "\n",
    "\n",
    "# Assuming df is your DataFrame with 'Patient ID' and 'Study ID' columns\n",
    "# df = pd.read_csv('path_to_your_dataframe.csv')  # Uncomment and modify this line if you need to read the DataFrame from a file\n",
    "\n",
    "raw_all_data_directory = \"/Volumes/T7 Shield/IBM/FDG-PET-CT-Lesions\"\n",
    "count = 0\n",
    "# Loop through the DataFrame and construct paths\n",
    "# for index, row in positive_block_df.iterrows():\n",
    "for index, row in negative_block_df.iterrows():\n",
    "\n",
    "    # Construct the path for each row\n",
    "    # It's important to remove any trailing characters like '...' that may not actually be part of the directory name\n",
    "    # Adapt this line if the split pattern is different\n",
    "    patient_path = os.path.join(raw_all_data_directory, row['Patient ID'], row['Study ID'])\n",
    "    block_coorindate = ast.literal_eval(row['Coordinate'])\n",
    "    block_coorindate = tuple(map(int, block_coorindate))\n",
    "    block_size = ast.literal_eval(row['Block Size'])\n",
    "    block_size = tuple(map(int, block_size))\n",
    "    \n",
    "    # print(block_size[0])\n",
    "    # break\n",
    "    suv_path = os.path.join(patient_path, 'SUV.nii.gz')\n",
    "    seg_path = os.path.join(patient_path, 'SEG.nii.gz')\n",
    "    seg_data = nib.load(seg_path).get_fdata()\n",
    "    suv_data = nib.load(suv_path).get_fdata()\n",
    "    \n",
    "    seg_block = seg_data[int(block_coorindate[0]):block_coorindate[0]+block_size[0], block_coorindate[1]:block_coorindate[1]+block_size[1], block_coorindate[2]:block_coorindate[2]+block_size[2]]\n",
    "    # assert np.sum(seg_block) > 0, f\"Positive block has no tumor in {patient_path}\"\n",
    "    assert np.sum(seg_block) == 0, f\"Negative block has tumor in {patient_path}\"\n",
    "    suv_block = suv_data[block_coorindate[0]:block_coorindate[0]+block_size[0], block_coorindate[1]:block_coorindate[1]+block_size[1], block_coorindate[2]:block_coorindate[2]+block_size[2]]\n",
    "   \n",
    "    # mlab.figure(bgcolor=(0, 0, 0), size=(400, 400))\n",
    "    # mlab.title('Original SUV Block')\n",
    "    # mlab.contour3d(suv_block, contours=8, transparent=True)\n",
    "    # mlab.colorbar(orientation='vertical')\n",
    "    # mlab.outline(color=(1, 1, 1))\n",
    "    # mlab.show()\n",
    "\n",
    "    scale_up_suv_block = (scale_up_block(suv_block, new_resol= [224,224,224]))\n",
    "    # Visualization of the scaled SUV block\n",
    "    mlab.figure(bgcolor=(0, 0, 0), size=(400, 400))\n",
    "    mlab.title('Scaled SUV Block')\n",
    "    mlab.contour3d(scale_up_suv_block, contours=8, transparent=True)\n",
    "    mlab.colorbar(orientation='vertical')\n",
    "    mlab.outline(color=(1, 1, 1))\n",
    "    mlab.show()\n",
    "    break\n",
    "\n",
    "   \n"
   ]
  },
  {
   "cell_type": "code",
   "execution_count": 33,
   "metadata": {},
   "outputs": [
    {
     "data": {
      "image/png": "[encoded data removed]",
      "text/plain": [
       "<Figure size 1500x500 with 3 Axes>"
      ]
     },
     "metadata": {},
     "output_type": "display_data"
    }
   ],
   "source": [
    "import matplotlib.pyplot as plt\n",
    "import numpy as np\n",
    "\n",
    "# Assuming `block` is your 3D numpy array\n",
    "block = np.random.rand(3, 3, 3)  # Example data\n",
    "\n",
    "fig, axs = plt.subplots(1, 3, figsize=(15, 5))\n",
    "\n",
    "# Display slices of the block\n",
    "axs[0].imshow(block[0, :, :], cmap='gray')  # Middle slice on the x-axis\n",
    "axs[1].imshow(block[:, 0, :], cmap='gray')  # Middle slice on the y-axis\n",
    "axs[2].imshow(block[:, :, 0], cmap='gray')  # Middle slice on the z-axis\n",
    "\n",
    "plt.show()\n"
   ]
  },
  {
   "cell_type": "code",
   "execution_count": 50,
   "metadata": {},
   "outputs": [],
   "source": [
    "\n",
    "# from mayavi import mlab\n",
    "# import numpy as np\n",
    "\n",
    "# block = np.random.rand(3, 3, 3)  # Example 3D data\n",
    "\n",
    "# # Visualize the 3D block as a volume\n",
    "# mlab.contour3d(block)\n",
    "# mlab.show()\n",
    "from mayavi import mlab\n",
    "import numpy as np\n",
    "\n",
    "# Create a 3x3x3 block of random data\n",
    "block = np.random.rand(3, 3, 3)\n",
    "\n",
    "# Create a figure\n",
    "fig = mlab.figure(bgcolor=(1, 1, 1))\n",
    "\n",
    "# Plot the scalar field using points\n",
    "# Here 'mode' can be 'cube', 'sphere', etc.\n",
    "# 'scale_factor' determines the size of the points\n",
    "pts = mlab.points3d(block, mode='cube', scale_factor=0.5)\n",
    "\n",
    "# Alternatively, if you want to use contours and your data is suitable:\n",
    "mlab.contour3d(block)\n",
    "\n",
    "# Show the visualization\n",
    "mlab.show()\n",
    "\n"
   ]
  },
  {
   "cell_type": "code",
   "execution_count": 36,
   "metadata": {},
   "outputs": [
    {
     "name": "stdout",
     "output_type": "stream",
     "text": [
      "Collecting plotly\n",
      "  Downloading plotly-5.19.0-py3-none-any.whl.metadata (7.0 kB)\n",
      "Collecting tenacity>=6.2.0 (from plotly)\n",
      "  Downloading tenacity-8.2.3-py3-none-any.whl.metadata (1.0 kB)\n",
      "Requirement already satisfied: packaging in /Users/wenyuanchen/anaconda3/envs/IBM_project/lib/python3.12/site-packages (from plotly) (23.2)\n",
      "Downloading plotly-5.19.0-py3-none-any.whl (15.7 MB)\n",
      "\u001b[2K   \u001b[90m━━━━━━━━━━━━━━━━━━━━━━━━━━━━━━━━━━━━━━━━\u001b[0m \u001b[32m15.7/15.7 MB\u001b[0m \u001b[31m12.4 MB/s\u001b[0m eta \u001b[36m0:00:00\u001b[0m00:01\u001b[0m00:01\u001b[0m\n",
      "\u001b[?25hDownloading tenacity-8.2.3-py3-none-any.whl (24 kB)\n",
      "Installing collected packages: tenacity, plotly\n",
      "Successfully installed plotly-5.19.0 tenacity-8.2.3\n"
     ]
    },
    {
     "ename": "ValueError",
     "evalue": "Mime type rendering requires nbformat>=4.2.0 but it is not installed",
     "output_type": "error",
     "traceback": [
      "\u001b[0;31m---------------------------------------------------------------------------\u001b[0m",
      "\u001b[0;31mValueError\u001b[0m                                Traceback (most recent call last)",
      "Cell \u001b[0;32mIn[36], line 9\u001b[0m\n\u001b[1;32m      6\u001b[0m x, y, z \u001b[38;5;241m=\u001b[39m np\u001b[38;5;241m.\u001b[39mrandom\u001b[38;5;241m.\u001b[39mrand(\u001b[38;5;241m3\u001b[39m, \u001b[38;5;241m100\u001b[39m) \u001b[38;5;241m*\u001b[39m \u001b[38;5;241m100\u001b[39m  \u001b[38;5;66;03m# 100 random points in 3D space\u001b[39;00m\n\u001b[1;32m      8\u001b[0m fig \u001b[38;5;241m=\u001b[39m go\u001b[38;5;241m.\u001b[39mFigure(data\u001b[38;5;241m=\u001b[39m[go\u001b[38;5;241m.\u001b[39mScatter3d(x\u001b[38;5;241m=\u001b[39mx, y\u001b[38;5;241m=\u001b[39my, z\u001b[38;5;241m=\u001b[39mz, mode\u001b[38;5;241m=\u001b[39m\u001b[38;5;124m'\u001b[39m\u001b[38;5;124mmarkers\u001b[39m\u001b[38;5;124m'\u001b[39m)])\n\u001b[0;32m----> 9\u001b[0m \u001b[43mfig\u001b[49m\u001b[38;5;241;43m.\u001b[39;49m\u001b[43mshow\u001b[49m\u001b[43m(\u001b[49m\u001b[43m)\u001b[49m\n",
      "File \u001b[0;32m~/anaconda3/envs/IBM_project/lib/python3.12/site-packages/plotly/basedatatypes.py:3410\u001b[0m, in \u001b[0;36mBaseFigure.show\u001b[0;34m(self, *args, **kwargs)\u001b[0m\n\u001b[1;32m   3377\u001b[0m \u001b[38;5;250m\u001b[39m\u001b[38;5;124;03m\"\"\"\u001b[39;00m\n\u001b[1;32m   3378\u001b[0m \u001b[38;5;124;03mShow a figure using either the default renderer(s) or the renderer(s)\u001b[39;00m\n\u001b[1;32m   3379\u001b[0m \u001b[38;5;124;03mspecified by the renderer argument\u001b[39;00m\n\u001b[0;32m   (...)\u001b[0m\n\u001b[1;32m   3406\u001b[0m \u001b[38;5;124;03mNone\u001b[39;00m\n\u001b[1;32m   3407\u001b[0m \u001b[38;5;124;03m\"\"\"\u001b[39;00m\n\u001b[1;32m   3408\u001b[0m \u001b[38;5;28;01mimport\u001b[39;00m \u001b[38;5;21;01mplotly\u001b[39;00m\u001b[38;5;21;01m.\u001b[39;00m\u001b[38;5;21;01mio\u001b[39;00m \u001b[38;5;28;01mas\u001b[39;00m \u001b[38;5;21;01mpio\u001b[39;00m\n\u001b[0;32m-> 3410\u001b[0m \u001b[38;5;28;01mreturn\u001b[39;00m \u001b[43mpio\u001b[49m\u001b[38;5;241;43m.\u001b[39;49m\u001b[43mshow\u001b[49m\u001b[43m(\u001b[49m\u001b[38;5;28;43mself\u001b[39;49m\u001b[43m,\u001b[49m\u001b[43m \u001b[49m\u001b[38;5;241;43m*\u001b[39;49m\u001b[43margs\u001b[49m\u001b[43m,\u001b[49m\u001b[43m \u001b[49m\u001b[38;5;241;43m*\u001b[39;49m\u001b[38;5;241;43m*\u001b[39;49m\u001b[43mkwargs\u001b[49m\u001b[43m)\u001b[49m\n",
      "File \u001b[0;32m~/anaconda3/envs/IBM_project/lib/python3.12/site-packages/plotly/io/_renderers.py:394\u001b[0m, in \u001b[0;36mshow\u001b[0;34m(fig, renderer, validate, **kwargs)\u001b[0m\n\u001b[1;32m    389\u001b[0m         \u001b[38;5;28;01mraise\u001b[39;00m \u001b[38;5;167;01mValueError\u001b[39;00m(\n\u001b[1;32m    390\u001b[0m             \u001b[38;5;124m\"\u001b[39m\u001b[38;5;124mMime type rendering requires ipython but it is not installed\u001b[39m\u001b[38;5;124m\"\u001b[39m\n\u001b[1;32m    391\u001b[0m         )\n\u001b[1;32m    393\u001b[0m     \u001b[38;5;28;01mif\u001b[39;00m \u001b[38;5;129;01mnot\u001b[39;00m nbformat \u001b[38;5;129;01mor\u001b[39;00m Version(nbformat\u001b[38;5;241m.\u001b[39m__version__) \u001b[38;5;241m<\u001b[39m Version(\u001b[38;5;124m\"\u001b[39m\u001b[38;5;124m4.2.0\u001b[39m\u001b[38;5;124m\"\u001b[39m):\n\u001b[0;32m--> 394\u001b[0m         \u001b[38;5;28;01mraise\u001b[39;00m \u001b[38;5;167;01mValueError\u001b[39;00m(\n\u001b[1;32m    395\u001b[0m             \u001b[38;5;124m\"\u001b[39m\u001b[38;5;124mMime type rendering requires nbformat>=4.2.0 but it is not installed\u001b[39m\u001b[38;5;124m\"\u001b[39m\n\u001b[1;32m    396\u001b[0m         )\n\u001b[1;32m    398\u001b[0m     ipython_display\u001b[38;5;241m.\u001b[39mdisplay(bundle, raw\u001b[38;5;241m=\u001b[39m\u001b[38;5;28;01mTrue\u001b[39;00m)\n\u001b[1;32m    400\u001b[0m \u001b[38;5;66;03m# external renderers\u001b[39;00m\n",
      "\u001b[0;31mValueError\u001b[0m: Mime type rendering requires nbformat>=4.2.0 but it is not installed"
     ]
    }
   ],
   "source": [
    "!pip install plotly\n",
    "import plotly.graph_objects as go\n",
    "import numpy as np\n",
    "\n",
    "# Generate some example data\n",
    "x, y, z = np.random.rand(3, 100) * 100  # 100 random points in 3D space\n",
    "\n",
    "fig = go.Figure(data=[go.Scatter3d(x=x, y=y, z=z, mode='markers')])\n",
    "fig.show()\n"
   ]
  },
  {
   "cell_type": "code",
   "execution_count": null,
   "metadata": {},
   "outputs": [],
   "source": []
  }
 ],
 "metadata": {
  "kernelspec": {
   "display_name": "IBM_project",
   "language": "python",
   "name": "python3"
  },
  "language_info": {
   "codemirror_mode": {
    "name": "ipython",
    "version": 3
   },
   "file_extension": ".py",
   "mimetype": "text/x-python",
   "name": "python",
   "nbconvert_exporter": "python",
   "pygments_lexer": "ipython3",
   "version": "3.12.1"
  }
 },
 "nbformat": 4,
 "nbformat_minor": 2
}
