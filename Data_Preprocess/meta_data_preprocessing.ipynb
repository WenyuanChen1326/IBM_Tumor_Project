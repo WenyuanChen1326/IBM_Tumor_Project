{
 "cells": [
  {
   "cell_type": "code",
   "execution_count": 28,
   "metadata": {},
   "outputs": [],
   "source": [
    "import pandas as pd\n",
    "import numpy as np"
   ]
  },
  {
   "cell_type": "code",
   "execution_count": 50,
   "metadata": {},
   "outputs": [],
   "source": [
    "path = '/Users/wenyuanchen/Desktop/IBM/IBM_Tumor_Project/Data/autoPETmeta.csv'\n",
    "raw_df = pd.read_csv(path)\n",
    "raw_df.fillna('unknown', inplace=True)\n",
    "raw_df[['patient_id','study_id']] = raw_df['study_location'].str.rsplit('/', n=2, expand=True)[[0,1]]\n",
    "raw_df['patient_id'] = raw_df['patient_id'].str.split('/').str[-1]\n",
    "raw_df['age_int'] = raw_df['age'].apply(lambda x: int(x[1:-1]) if x != 'Nan' else 999)"
   ]
  },
  {
   "cell_type": "code",
   "execution_count": 52,
   "metadata": {},
   "outputs": [
    {
     "data": {
      "text/html": [
       "<div>\n",
       "<style scoped>\n",
       "    .dataframe tbody tr th:only-of-type {\n",
       "        vertical-align: middle;\n",
       "    }\n",
       "\n",
       "    .dataframe tbody tr th {\n",
       "        vertical-align: top;\n",
       "    }\n",
       "\n",
       "    .dataframe thead th {\n",
       "        text-align: right;\n",
       "    }\n",
       "</style>\n",
       "<table border=\"1\" class=\"dataframe\">\n",
       "  <thead>\n",
       "    <tr style=\"text-align: right;\">\n",
       "      <th></th>\n",
       "      <th>study_location</th>\n",
       "      <th>diagnosis</th>\n",
       "      <th>age</th>\n",
       "      <th>sex</th>\n",
       "      <th>patient_id</th>\n",
       "      <th>study_id</th>\n",
       "      <th>age_int</th>\n",
       "    </tr>\n",
       "  </thead>\n",
       "  <tbody>\n",
       "    <tr>\n",
       "      <th>0</th>\n",
       "      <td>./FDG-PET-CT-Lesions/PETCT_0011f3deaf/03-23-20...</td>\n",
       "      <td>MELANOMA</td>\n",
       "      <td>063Y</td>\n",
       "      <td>F</td>\n",
       "      <td>PETCT_0011f3deaf</td>\n",
       "      <td>03-23-2003-NA-PET-CT Ganzkoerper  primaer mit ...</td>\n",
       "      <td>63</td>\n",
       "    </tr>\n",
       "    <tr>\n",
       "      <th>1</th>\n",
       "      <td>./FDG-PET-CT-Lesions/PETCT_01140d52d8/08-13-20...</td>\n",
       "      <td>MELANOMA</td>\n",
       "      <td>061Y</td>\n",
       "      <td>M</td>\n",
       "      <td>PETCT_01140d52d8</td>\n",
       "      <td>08-13-2005-NA-PET-CT Ganzkoerper  primaer mit ...</td>\n",
       "      <td>61</td>\n",
       "    </tr>\n",
       "    <tr>\n",
       "      <th>2</th>\n",
       "      <td>./FDG-PET-CT-Lesions/PETCT_0117d7f11f/09-13-20...</td>\n",
       "      <td>LUNG_CANCER</td>\n",
       "      <td>052Y</td>\n",
       "      <td>F</td>\n",
       "      <td>PETCT_0117d7f11f</td>\n",
       "      <td>09-13-2001-NA-PET-CT Ganzkoerper  primaer mit ...</td>\n",
       "      <td>52</td>\n",
       "    </tr>\n",
       "    <tr>\n",
       "      <th>3</th>\n",
       "      <td>./FDG-PET-CT-Lesions/PETCT_0143bab87a/07-17-20...</td>\n",
       "      <td>NEGATIVE</td>\n",
       "      <td>084Y</td>\n",
       "      <td>M</td>\n",
       "      <td>PETCT_0143bab87a</td>\n",
       "      <td>07-17-2005-NA-PET-CT Ganzkoerper  primaer mit ...</td>\n",
       "      <td>84</td>\n",
       "    </tr>\n",
       "    <tr>\n",
       "      <th>4</th>\n",
       "      <td>./FDG-PET-CT-Lesions/PETCT_01682f60c3/03-11-20...</td>\n",
       "      <td>LUNG_CANCER</td>\n",
       "      <td>062Y</td>\n",
       "      <td>M</td>\n",
       "      <td>PETCT_01682f60c3</td>\n",
       "      <td>03-11-2002-NA-PET-CT Ganzkoerper  primaer mit ...</td>\n",
       "      <td>62</td>\n",
       "    </tr>\n",
       "  </tbody>\n",
       "</table>\n",
       "</div>"
      ],
      "text/plain": [
       "                                      study_location    diagnosis   age sex  \\\n",
       "0  ./FDG-PET-CT-Lesions/PETCT_0011f3deaf/03-23-20...     MELANOMA  063Y   F   \n",
       "1  ./FDG-PET-CT-Lesions/PETCT_01140d52d8/08-13-20...     MELANOMA  061Y   M   \n",
       "2  ./FDG-PET-CT-Lesions/PETCT_0117d7f11f/09-13-20...  LUNG_CANCER  052Y   F   \n",
       "3  ./FDG-PET-CT-Lesions/PETCT_0143bab87a/07-17-20...     NEGATIVE  084Y   M   \n",
       "4  ./FDG-PET-CT-Lesions/PETCT_01682f60c3/03-11-20...  LUNG_CANCER  062Y   M   \n",
       "\n",
       "         patient_id                                           study_id  \\\n",
       "0  PETCT_0011f3deaf  03-23-2003-NA-PET-CT Ganzkoerper  primaer mit ...   \n",
       "1  PETCT_01140d52d8  08-13-2005-NA-PET-CT Ganzkoerper  primaer mit ...   \n",
       "2  PETCT_0117d7f11f  09-13-2001-NA-PET-CT Ganzkoerper  primaer mit ...   \n",
       "3  PETCT_0143bab87a  07-17-2005-NA-PET-CT Ganzkoerper  primaer mit ...   \n",
       "4  PETCT_01682f60c3  03-11-2002-NA-PET-CT Ganzkoerper  primaer mit ...   \n",
       "\n",
       "   age_int  \n",
       "0       63  \n",
       "1       61  \n",
       "2       52  \n",
       "3       84  \n",
       "4       62  "
      ]
     },
     "execution_count": 52,
     "metadata": {},
     "output_type": "execute_result"
    }
   ],
   "source": [
    "raw_df.head()"
   ]
  },
  {
   "cell_type": "code",
   "execution_count": 30,
   "metadata": {},
   "outputs": [
    {
     "data": {
      "text/html": [
       "<div>\n",
       "<style scoped>\n",
       "    .dataframe tbody tr th:only-of-type {\n",
       "        vertical-align: middle;\n",
       "    }\n",
       "\n",
       "    .dataframe tbody tr th {\n",
       "        vertical-align: top;\n",
       "    }\n",
       "\n",
       "    .dataframe thead th {\n",
       "        text-align: right;\n",
       "    }\n",
       "</style>\n",
       "<table border=\"1\" class=\"dataframe\">\n",
       "  <thead>\n",
       "    <tr style=\"text-align: right;\">\n",
       "      <th></th>\n",
       "      <th>count</th>\n",
       "      <th>mean</th>\n",
       "      <th>std</th>\n",
       "      <th>min</th>\n",
       "      <th>25%</th>\n",
       "      <th>50%</th>\n",
       "      <th>75%</th>\n",
       "      <th>max</th>\n",
       "    </tr>\n",
       "    <tr>\n",
       "      <th>diagnosis</th>\n",
       "      <th></th>\n",
       "      <th></th>\n",
       "      <th></th>\n",
       "      <th></th>\n",
       "      <th></th>\n",
       "      <th></th>\n",
       "      <th></th>\n",
       "      <th></th>\n",
       "    </tr>\n",
       "  </thead>\n",
       "  <tbody>\n",
       "    <tr>\n",
       "      <th>LUNG_CANCER</th>\n",
       "      <td>168.0</td>\n",
       "      <td>65.95</td>\n",
       "      <td>8.99</td>\n",
       "      <td>44.0</td>\n",
       "      <td>59.0</td>\n",
       "      <td>65.0</td>\n",
       "      <td>73.0</td>\n",
       "      <td>83.0</td>\n",
       "    </tr>\n",
       "    <tr>\n",
       "      <th>LYMPHOMA</th>\n",
       "      <td>145.0</td>\n",
       "      <td>46.47</td>\n",
       "      <td>18.93</td>\n",
       "      <td>11.0</td>\n",
       "      <td>30.0</td>\n",
       "      <td>47.0</td>\n",
       "      <td>62.0</td>\n",
       "      <td>85.0</td>\n",
       "    </tr>\n",
       "    <tr>\n",
       "      <th>MELANOMA</th>\n",
       "      <td>188.0</td>\n",
       "      <td>65.42</td>\n",
       "      <td>13.34</td>\n",
       "      <td>19.0</td>\n",
       "      <td>56.0</td>\n",
       "      <td>64.0</td>\n",
       "      <td>76.0</td>\n",
       "      <td>95.0</td>\n",
       "    </tr>\n",
       "    <tr>\n",
       "      <th>NEGATIVE</th>\n",
       "      <td>513.0</td>\n",
       "      <td>58.71</td>\n",
       "      <td>15.46</td>\n",
       "      <td>18.0</td>\n",
       "      <td>49.0</td>\n",
       "      <td>60.0</td>\n",
       "      <td>71.0</td>\n",
       "      <td>85.0</td>\n",
       "    </tr>\n",
       "  </tbody>\n",
       "</table>\n",
       "</div>"
      ],
      "text/plain": [
       "             count   mean    std   min   25%   50%   75%   max\n",
       "diagnosis                                                     \n",
       "LUNG_CANCER  168.0  65.95   8.99  44.0  59.0  65.0  73.0  83.0\n",
       "LYMPHOMA     145.0  46.47  18.93  11.0  30.0  47.0  62.0  85.0\n",
       "MELANOMA     188.0  65.42  13.34  19.0  56.0  64.0  76.0  95.0\n",
       "NEGATIVE     513.0  58.71  15.46  18.0  49.0  60.0  71.0  85.0"
      ]
     },
     "execution_count": 30,
     "metadata": {},
     "output_type": "execute_result"
    }
   ],
   "source": [
    "np.round(raw_df.groupby(['diagnosis'])['age_int'].describe(),2)"
   ]
  },
  {
   "cell_type": "code",
   "execution_count": 58,
   "metadata": {},
   "outputs": [
    {
     "data": {
      "text/plain": [
       "diagnosis\n",
       "LUNG_CANCER     0\n",
       "LYMPHOMA        1\n",
       "MELANOMA       11\n",
       "NEGATIVE       72\n",
       "dtype: int64"
      ]
     },
     "execution_count": 58,
     "metadata": {},
     "output_type": "execute_result"
    }
   ],
   "source": [
    "raw_df.groupby(['diagnosis']).apply(lambda x: x['patient_id'].duplicated().sum())\n"
   ]
  },
  {
   "cell_type": "code",
   "execution_count": 62,
   "metadata": {},
   "outputs": [
    {
     "name": "stdout",
     "output_type": "stream",
     "text": [
      "72\n"
     ]
    }
   ],
   "source": [
    "# # Step 1: Filter the DataFrame for LUNG_CANCER diagnosis\n",
    "# lung_cancer_df = raw_df[raw_df['diagnosis'] == 'NEGATIVE']\n",
    "\n",
    "# # Step 2: Find duplicated patient_id within the LUNG_CANCER diagnosis\n",
    "# duplicated_patient_ids = lung_cancer_df['patient_id'].duplicated()\n",
    "\n",
    "# # Step 3: Sum the boolean values to get the count of duplicates\n",
    "# number_of_duplicated_patient_ids = duplicated_patient_ids.sum()\n",
    "\n",
    "# print(number_of_duplicated_patient_ids)\n"
   ]
  },
  {
   "cell_type": "code",
   "execution_count": null,
   "metadata": {},
   "outputs": [],
   "source": []
  }
 ],
 "metadata": {
  "kernelspec": {
   "display_name": "IBM_project",
   "language": "python",
   "name": "python3"
  },
  "language_info": {
   "codemirror_mode": {
    "name": "ipython",
    "version": 3
   },
   "file_extension": ".py",
   "mimetype": "text/x-python",
   "name": "python",
   "nbconvert_exporter": "python",
   "pygments_lexer": "ipython3",
   "version": "3.12.1"
  }
 },
 "nbformat": 4,
 "nbformat_minor": 2
}
